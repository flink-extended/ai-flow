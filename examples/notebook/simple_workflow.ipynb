{
 "cells": [
  {
   "cell_type": "code",
   "execution_count": null,
   "id": "d4c8f9af",
   "metadata": {},
   "outputs": [],
   "source": [
    "import ai_flow as af\n",
    "from ai_flow.project.project_config import ProjectConfig\n",
    "from ai_flow.workflow.job_config import JobConfig\n",
    "from ai_flow.workflow.workflow_config import WorkflowConfig\n",
    "from ai_flow_plugins.job_plugins.bash import BashProcessor\n",
    "\n",
    "\n",
    "def main():\n",
    "    project_config: ProjectConfig = ProjectConfig()\n",
    "    project_config.set_project_name('simple_workflow')\n",
    "    project_config.set_server_uri('localhost:50051')\n",
    "    project_config.set_notification_server_uri('localhost:50052')\n",
    "    project_config['blob'] = {\n",
    "        'blob_manager_class': 'ai_flow_plugins.blob_manager_plugins.local_blob_manager.LocalBlobManager',\n",
    "        'blob_manager_config': {\n",
    "                'root_directory': '/tmp/aiflow-examples/notebook'\n",
    "            }\n",
    "    }\n",
    "\n",
    "    workflow_config: WorkflowConfig = WorkflowConfig('simple_workflow')\n",
    "    workflow_config.add_job_config('task_1', JobConfig(job_name='task_1', job_type='bash'))\n",
    "    workflow_config.add_job_config('task_2', JobConfig(job_name='task_2', job_type='bash'))\n",
    "\n",
    "    af.init_notebook_context(project_config, workflow_config)\n",
    "\n",
    "    with af.job_config('task_1'):\n",
    "        af.user_define_operation(processor=BashProcessor(\"echo hello\"))\n",
    "    with af.job_config('task_2'):\n",
    "        af.user_define_operation(processor=BashProcessor(\"echo hello\"))\n",
    "\n",
    "    af.action_on_job_status('task_2', 'task_1')\n",
    "\n",
    "    workflow_name = af.current_workflow_config().workflow_name\n",
    "    stop_workflow_executions(workflow_name)\n",
    "    af.workflow_operation.submit_workflow(workflow_name)\n",
    "    af.workflow_operation.start_new_workflow_execution(workflow_name)\n",
    "\n",
    "\n",
    "def stop_workflow_executions(workflow_name):\n",
    "    workflow_executions = af.workflow_operation.list_workflow_executions(workflow_name)\n",
    "    for workflow_execution in workflow_executions:\n",
    "        af.workflow_operation.stop_workflow_execution(workflow_execution.workflow_execution_id)\n",
    "\n",
    "\n",
    "if __name__ == '__main__':\n",
    "    main()"
   ]
  }
 ],
 "metadata": {
  "kernelspec": {
   "display_name": "Python 3 (ipykernel)",
   "language": "python",
   "name": "python3"
  },
  "language_info": {
   "codemirror_mode": {
    "name": "ipython",
    "version": 3
   },
   "file_extension": ".py",
   "mimetype": "text/x-python",
   "name": "python",
   "nbconvert_exporter": "python",
   "pygments_lexer": "ipython3",
   "version": "3.7.9"
  }
 },
 "nbformat": 4,
 "nbformat_minor": 5
}